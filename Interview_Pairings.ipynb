{
  "nbformat": 4,
  "nbformat_minor": 0,
  "metadata": {
    "colab": {
      "name": "Interview_Pairings.ipynb",
      "provenance": [],
      "collapsed_sections": [],
      "authorship_tag": "ABX9TyPr/zCRUNjGJyZM5vXbk27q",
      "include_colab_link": true
    },
    "kernelspec": {
      "name": "python3",
      "display_name": "Python 3"
    },
    "language_info": {
      "name": "python"
    }
  },
  "cells": [
    {
      "cell_type": "markdown",
      "metadata": {
        "id": "view-in-github",
        "colab_type": "text"
      },
      "source": [
        "<a href=\"https://colab.research.google.com/github/ikjot-2605/Interview_Pairing_Automate/blob/improvements/Interview_Pairings.ipynb\" target=\"_parent\"><img src=\"https://colab.research.google.com/assets/colab-badge.svg\" alt=\"Open In Colab\"/></a>"
      ]
    },
    {
      "cell_type": "code",
      "metadata": {
        "id": "28tOjJQ7iUEO"
      },
      "source": [
        "from google.colab import auth\n",
        "auth.authenticate_user()\n",
        "\n",
        "import gspread\n",
        "from oauth2client.client import GoogleCredentials\n",
        "\n",
        "gc = gspread.authorize(GoogleCredentials.get_application_default())\n",
        "\n",
        "import pandas as pd"
      ],
      "execution_count": 33,
      "outputs": []
    },
    {
      "cell_type": "code",
      "metadata": {
        "id": "essiSXWColUR"
      },
      "source": [
        "#interviewer class\n",
        "class Interviewer:\n",
        "  def __init__(self, name):\n",
        "    self.name = name\n",
        "    self.previouslyInterviewed = []\n",
        "  def addPreviouslyInterviewed(self,interviee_name):\n",
        "    self.previouslyInterviewed.append(interviee_name)\n",
        "         \n",
        "#interviewee class\n",
        "class Interviewee:\n",
        "  def __init__(self, name):\n",
        "    self.name = name\n",
        "    self.previouslyInterviewedBy = []\n",
        "  def addPreviouslyInterviewedBy(self,interviewer_name):\n",
        "    self.previouslyInterviewedBy.append(interviewer_name)      "
      ],
      "execution_count": 36,
      "outputs": []
    },
    {
      "cell_type": "code",
      "metadata": {
        "colab": {
          "base_uri": "https://localhost:8080/"
        },
        "id": "yO1f2tBFyNXP",
        "outputId": "ab7579b9-32be-435b-f486-735cce55d533"
      },
      "source": [
        "sh = gc.open('WEC Mock Interview pairings')\n",
        "#get the worksheets\n",
        "worksheet_list = sh.worksheets()\n",
        "#get the length of list of worksheets\n",
        "worksheet_list_length = len(worksheet_list)\n",
        "#get all interviewers and interviewees \n",
        "all_interviewees = {};\n",
        "all_interviewers = {};\n",
        "#filling out the all_interviewer, all_interviewees dictionaries\n",
        "for worksheet in worksheet_list:\n",
        "  #creating dataframe for current sheet\n",
        "  rows = worksheet.get_all_values()\n",
        "  pd_val = pd.DataFrame.from_records(rows)\n",
        "  #iterating through rows of dataframe, and building the respective dicts\n",
        "  for index, row in pd_val.iterrows():\n",
        "    if(index>1):\n",
        "      all_interviewees[row[0]] = (Interviewee(row[0]))\n",
        "      all_interviewers[row[1]] = (Interviewer(row[1]))\n",
        "      all_interviewees[row[0]].addPreviouslyInterviewedBy(row[1])\n",
        "      all_interviewers[row[1]].addPreviouslyInterviewed(row[0]) \n",
        "   "
      ],
      "execution_count": 39,
      "outputs": [
        {
          "output_type": "stream",
          "text": [
            "31\n",
            "25\n"
          ],
          "name": "stdout"
        }
      ]
    }
  ]
}