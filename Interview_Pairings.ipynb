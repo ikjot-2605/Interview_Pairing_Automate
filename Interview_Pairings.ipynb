{
  "nbformat": 4,
  "nbformat_minor": 0,
  "metadata": {
    "colab": {
      "name": "Interview_Pairings.ipynb",
      "provenance": [],
      "collapsed_sections": [],
      "authorship_tag": "ABX9TyP1reSAWVIztphALQt2ICEw",
      "include_colab_link": true
    },
    "kernelspec": {
      "name": "python3",
      "display_name": "Python 3"
    },
    "language_info": {
      "name": "python"
    }
  },
  "cells": [
    {
      "cell_type": "markdown",
      "metadata": {
        "id": "view-in-github",
        "colab_type": "text"
      },
      "source": [
        "<a href=\"https://colab.research.google.com/github/ikjot-2605/Interview_Pairing_Automate/blob/main/Interview_Pairings.ipynb\" target=\"_parent\"><img src=\"https://colab.research.google.com/assets/colab-badge.svg\" alt=\"Open In Colab\"/></a>"
      ]
    },
    {
      "cell_type": "code",
      "metadata": {
        "id": "28tOjJQ7iUEO"
      },
      "source": [
        "from google.colab import auth\n",
        "auth.authenticate_user()\n",
        "\n",
        "import gspread\n",
        "from oauth2client.client import GoogleCredentials\n",
        "\n",
        "gc = gspread.authorize(GoogleCredentials.get_application_default())\n",
        "\n",
        "import pandas as pd"
      ],
      "execution_count": 8,
      "outputs": []
    },
    {
      "cell_type": "code",
      "metadata": {
        "id": "essiSXWColUR"
      },
      "source": [
        "#interviewer class\n",
        "class Interviewer:\n",
        "  def __init__(self, name):\n",
        "    self.name = name\n",
        "    self.previouslyInterviewed = []\n",
        "    self.last_interview_count = 0\n",
        "    self.possible_interviewees = []\n",
        "    self.assigned = 0\n",
        "  def addPreviouslyInterviewed(self,interviee_name):\n",
        "    self.previouslyInterviewed.append(interviee_name)\n",
        "         \n",
        "#interviewee class\n",
        "class Interviewee:\n",
        "  def __init__(self, name):\n",
        "    self.name = name\n",
        "    self.previouslyInterviewedBy = []\n",
        "  def addPreviouslyInterviewedBy(self,interviewer_name):\n",
        "    self.previouslyInterviewedBy.append(interviewer_name)      "
      ],
      "execution_count": 9,
      "outputs": []
    },
    {
      "cell_type": "code",
      "metadata": {
        "id": "yO1f2tBFyNXP"
      },
      "source": [
        "sh = gc.open('Compsoc Mock Interview Pairings')\n",
        "#get the worksheets\n",
        "worksheet_list = sh.worksheets()\n",
        "#get the length of list of worksheets\n",
        "worksheet_list_length = len(worksheet_list)\n",
        "#get all interviewers and interviewees \n",
        "all_interviewees = {};\n",
        "all_interviewers = {};\n",
        "#filling out the all_interviewer, all_interviewees dictionaries\n",
        "for worksheet in worksheet_list:\n",
        "  #creating dataframe for current sheet\n",
        "  rows = worksheet.get_all_values()\n",
        "  pd_val = pd.DataFrame.from_records(rows)\n",
        "  #iterating through rows of dataframe, and building the respective dicts\n",
        "  for index, row in pd_val.iterrows():\n",
        "    if(index>1):\n",
        "      if(row[0] not in all_interviewees):all_interviewees[row[0]] = (Interviewee(row[0]))\n",
        "      if(row[1] not in all_interviewers):all_interviewers[row[1]] = (Interviewer(row[1]))\n",
        "      all_interviewees[row[0]].addPreviouslyInterviewedBy(row[1])\n",
        "      all_interviewers[row[1]].addPreviouslyInterviewed(row[0]) \n",
        "    \n",
        "   "
      ],
      "execution_count": 10,
      "outputs": []
    },
    {
      "cell_type": "code",
      "metadata": {
        "id": "MwC4kqmO8x1D"
      },
      "source": [
        "#set the previous 2 interview takers\n",
        "rows = worksheet_list[len(worksheet_list)-1].get_all_values()\n",
        "pd_val = pd.DataFrame.from_records(rows)\n",
        "for index,row in pd_val.iterrows():\n",
        "  if(index>1):\n",
        "    all_interviewers[row[1]].last_interview_count=all_interviewers[row[1]].last_interview_count+1;\n",
        "hash = sorted(all_interviewers.values(), key=lambda interviewer: interviewer.last_interview_count)  \n",
        "newhash = {}\n",
        "for interviewer in hash:\n",
        "  newhash[interviewer.name] = interviewer\n",
        "all_interviewers = newhash  "
      ],
      "execution_count": 11,
      "outputs": []
    },
    {
      "cell_type": "code",
      "metadata": {
        "id": "ZDhbelSGeNxv"
      },
      "source": [
        "interview_pairings = []\n",
        "import random\n",
        "for interviewer in all_interviewers:\n",
        "  for interviewee in all_interviewees:\n",
        "    if not interviewee in all_interviewers[interviewer].previouslyInterviewed:\n",
        "      all_interviewers[interviewer].possible_interviewees.append(all_interviewees[interviewee]) \n"
      ],
      "execution_count": 12,
      "outputs": []
    },
    {
      "cell_type": "code",
      "metadata": {
        "colab": {
          "base_uri": "https://localhost:8080/"
        },
        "id": "YFmH6R5OkZGY",
        "outputId": "d5d77cf7-6bba-46f9-91e3-9b2a097e6b14"
      },
      "source": [
        "assigned_students = {}\n",
        "interview_pairings = []\n",
        "#assign 1 to each interviewer for now\n",
        "for interviewer in all_interviewers:\n",
        "  for interviewee in all_interviewers[interviewer].possible_interviewees:\n",
        "    if not interviewee.name in assigned_students:\n",
        "      assigned_students[interviewee.name]=1\n",
        "      interview_pairings.append([interviewee.name,interviewer])\n",
        "      all_interviewers[interviewer].assigned = 1\n",
        "      break \n",
        "print(interview_pairings)       \n",
        "for interviewee in all_interviewees:\n",
        "  if interviewee in assigned_students:\n",
        "    continue\n",
        "  for interviewer in all_interviewers:\n",
        "    lic = all_interviewers[interviewer].last_interview_count\n",
        "    assigned = all_interviewers[interviewer].assigned\n",
        "    print(lic)\n",
        "    print(assigned)\n",
        "    if (assigned>=2 or(lic==2 and assigned ==1)) or interviewer in all_interviewees[interviewee].previouslyInterviewedBy:\n",
        "      continue  \n",
        "    all_interviewers[interviewer].assigned = all_interviewers[interviewer].assigned+1\n",
        "    interview_pairings.append([interviewee,interviewer])\n",
        "    break\n",
        "print(interview_pairings)\n",
        "print(len(interview_pairings))    \n",
        "print(len(all_interviewees))\n",
        "import csv\n",
        "\n",
        "with open(\"out.csv\", \"w\", newline=\"\") as f:\n",
        "    writer = csv.writer(f)\n",
        "    writer.writerows(interview_pairings)"
      ],
      "execution_count": 13,
      "outputs": [
        {
          "output_type": "stream",
          "text": [
            "[['Sravani (IEEE)', 'Arnav Nair(IEEE)'], ['Aryaman (IEEE)', 'Vaibhav Puri(IEEE)'], ['Gaurang (IEEE)', 'Aditya Sohoni(IEEE)'], ['Harshwardhan(IEEE)', 'Krithik Vaidya(IEEE)']]\n",
            "1\n",
            "1\n",
            "1\n",
            "1\n",
            "1\n",
            "1\n",
            "1\n",
            "2\n",
            "1\n",
            "2\n",
            "1\n",
            "1\n",
            "[['Sravani (IEEE)', 'Arnav Nair(IEEE)'], ['Aryaman (IEEE)', 'Vaibhav Puri(IEEE)'], ['Gaurang (IEEE)', 'Aditya Sohoni(IEEE)'], ['Harshwardhan(IEEE)', 'Krithik Vaidya(IEEE)'], ['Pranav(IEEE)', 'Vaibhav Puri(IEEE)'], ['Pratham(IEEE)', 'Arnav Nair(IEEE)'], ['Sanjkeet(IEEE)', 'Aditya Sohoni(IEEE)']]\n",
            "7\n",
            "7\n"
          ],
          "name": "stdout"
        }
      ]
    },
    {
      "cell_type": "code",
      "metadata": {
        "id": "_7Zo0mYGmzff"
      },
      "source": [
        ""
      ],
      "execution_count": null,
      "outputs": []
    }
  ]
}