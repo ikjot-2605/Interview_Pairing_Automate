{
  "nbformat": 4,
  "nbformat_minor": 0,
  "metadata": {
    "colab": {
      "name": "Interview_Pairings.ipynb",
      "provenance": [],
      "collapsed_sections": [],
      "authorship_tag": "ABX9TyOP/Bce0sYifYOE/m4mgaIZ",
      "include_colab_link": true
    },
    "kernelspec": {
      "name": "python3",
      "display_name": "Python 3"
    },
    "language_info": {
      "name": "python"
    }
  },
  "cells": [
    {
      "cell_type": "markdown",
      "metadata": {
        "id": "view-in-github",
        "colab_type": "text"
      },
      "source": [
        "<a href=\"https://colab.research.google.com/github/ikjot-2605/Interview_Pairing_Automate/blob/main/Interview_Pairings.ipynb\" target=\"_parent\"><img src=\"https://colab.research.google.com/assets/colab-badge.svg\" alt=\"Open In Colab\"/></a>"
      ]
    },
    {
      "cell_type": "code",
      "metadata": {
        "id": "28tOjJQ7iUEO"
      },
      "source": [
        "from google.colab import auth\n",
        "auth.authenticate_user()\n",
        "\n",
        "import gspread\n",
        "from oauth2client.client import GoogleCredentials\n",
        "\n",
        "gc = gspread.authorize(GoogleCredentials.get_application_default())\n",
        "\n",
        "import pandas as pd"
      ],
      "execution_count": 20,
      "outputs": []
    },
    {
      "cell_type": "code",
      "metadata": {
        "colab": {
          "base_uri": "https://localhost:8080/"
        },
        "id": "essiSXWColUR",
        "outputId": "57d1fcff-64b2-49fc-d270-25456bafe94f"
      },
      "source": [
        "sh = gc.open('WEC Mock Interview pairings')\n",
        "worksheet_list = sh.worksheets()\n",
        "worksheet_list_length = len(worksheet_list)\n",
        "all_interviewees = set()\n",
        "all_interviewers = set()\n",
        "for i in range(0,worksheet_list_length):\n",
        "  current_worksheet = worksheet_list[i]\n",
        "  rows = current_worksheet.get_all_values()\n",
        "  pd_val = pd.DataFrame.from_records(rows)\n",
        "  for index, row in pd_val.iterrows():\n",
        "    if index>1:\n",
        "      all_interviewers.add(row[1])\n",
        "      all_interviewees.add(row[0])\n",
        "interviewee_list = list(all_interviewees)\n",
        "interviewer_list = list(all_interviewers)\n",
        "matrix = [[]]\n",
        "\n",
        "for i in range (0,len(interviewer_list)):\n",
        "  for j in range (0,len(interviewee_list)):\n",
        "    matrix[i].append(interviewee_list[j])\n",
        "  matrix.append([])  \n",
        "\n",
        "for i in range (0,len(interviewer_list)):\n",
        "  for j in range(0,worksheet_list_length):\n",
        "    current_worksheet = worksheet_list[j]\n",
        "    rows = current_worksheet.get_all_values()\n",
        "    pd_val = pd.DataFrame.from_records(rows)\n",
        "    for index, row in pd_val.iterrows():\n",
        "      if row[1]==interviewer_list[i]:\n",
        "        matrix[i].remove(row[0])\n",
        "print(all_interviewers)\n",
        "\n"
      ],
      "execution_count": 32,
      "outputs": [
        {
          "output_type": "stream",
          "text": [
            "{'Krithik Vaidya(WEC)', 'Abhinav(WEC)', 'Krishna Swaroop (WEC)', 'Mohit(WEC)', 'Shashank(WEC)', 'Jaidev Chittoria(WEC)', 'Niranjan S Y(WEC)', 'Sai Krishna Anand (WEC)', 'Shreeraksha(WEC)', 'Kevin Joe(WEC)', 'Manav Singhal(WEC)', 'Sai Krishna Anand(WEC)', 'Vaibhav Puri(WEC)', 'Arpitha R(WEC)', 'Aditya Jain(WEC)', 'Suhas K S(WEC)', 'Aniruddh Patil(WEC)', 'Adharsh Kamath(WEC)', 'Sriram Rao(WEC)', 'Arnav Nair(WEC)', 'Shruthan(WEC)', 'Kinshuk Kashyap(WEC)', 'Akashdeep S(WEC)', 'Abhishek Kumar(WEC)', 'Adarsh Kamath (WEC)', 'Saurabh Agarwala(WEC)'}\n",
            "0\n",
            "1\n"
          ],
          "name": "stdout"
        }
      ]
    }
  ]
}