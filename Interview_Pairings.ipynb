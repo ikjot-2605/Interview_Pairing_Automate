{
  "nbformat": 4,
  "nbformat_minor": 0,
  "metadata": {
    "colab": {
      "name": "Interview_Pairings.ipynb",
      "provenance": [],
      "collapsed_sections": [],
      "authorship_tag": "ABX9TyPn7kmHAtdB9SEdCaGSz0ZJ",
      "include_colab_link": true
    },
    "kernelspec": {
      "name": "python3",
      "display_name": "Python 3"
    },
    "language_info": {
      "name": "python"
    }
  },
  "cells": [
    {
      "cell_type": "markdown",
      "metadata": {
        "id": "view-in-github",
        "colab_type": "text"
      },
      "source": [
        "<a href=\"https://colab.research.google.com/github/ikjot-2605/Interview_Pairing_Automate/blob/improvements/Interview_Pairings.ipynb\" target=\"_parent\"><img src=\"https://colab.research.google.com/assets/colab-badge.svg\" alt=\"Open In Colab\"/></a>"
      ]
    },
    {
      "cell_type": "code",
      "metadata": {
        "id": "28tOjJQ7iUEO"
      },
      "source": [
        "from google.colab import auth\n",
        "auth.authenticate_user()\n",
        "\n",
        "import gspread\n",
        "from oauth2client.client import GoogleCredentials\n",
        "\n",
        "gc = gspread.authorize(GoogleCredentials.get_application_default())\n",
        "\n",
        "import pandas as pd"
      ],
      "execution_count": null,
      "outputs": []
    },
    {
      "cell_type": "code",
      "metadata": {
        "id": "essiSXWColUR"
      },
      "source": [
        "#interviewer class\n",
        "class Interviewer:\n",
        "  def __init__(self, name):\n",
        "    self.name = name\n",
        "    self.previouslyInterviewed = []\n",
        "    self.last_interview_count = 0;\n",
        "  def addPreviouslyInterviewed(self,interviee_name):\n",
        "    self.previouslyInterviewed.append(interviee_name)\n",
        "         \n",
        "#interviewee class\n",
        "class Interviewee:\n",
        "  def __init__(self, name):\n",
        "    self.name = name\n",
        "    self.previouslyInterviewedBy = []\n",
        "  def addPreviouslyInterviewedBy(self,interviewer_name):\n",
        "    self.previouslyInterviewedBy.append(interviewer_name)      "
      ],
      "execution_count": null,
      "outputs": []
    },
    {
      "cell_type": "code",
      "metadata": {
        "id": "yO1f2tBFyNXP"
      },
      "source": [
        "sh = gc.open('WEC Mock Interview pairings')\n",
        "#get the worksheets\n",
        "worksheet_list = sh.worksheets()\n",
        "#get the length of list of worksheets\n",
        "worksheet_list_length = len(worksheet_list)\n",
        "#get all interviewers and interviewees \n",
        "all_interviewees = {};\n",
        "all_interviewers = {};\n",
        "#filling out the all_interviewer, all_interviewees dictionaries\n",
        "for worksheet in worksheet_list:\n",
        "  #creating dataframe for current sheet\n",
        "  rows = worksheet.get_all_values()\n",
        "  pd_val = pd.DataFrame.from_records(rows)\n",
        "  #iterating through rows of dataframe, and building the respective dicts\n",
        "  for index, row in pd_val.iterrows():\n",
        "    if(index>1):\n",
        "      if(row[0] not in all_interviewees):all_interviewees[row[0]] = (Interviewee(row[0]))\n",
        "      if(row[1] not in all_interviewers):all_interviewers[row[1]] = (Interviewer(row[1]))\n",
        "      all_interviewees[row[0]].addPreviouslyInterviewedBy(row[1])\n",
        "      all_interviewers[row[1]].addPreviouslyInterviewed(row[0]) \n",
        "    \n",
        "   "
      ],
      "execution_count": null,
      "outputs": []
    },
    {
      "cell_type": "code",
      "metadata": {
        "id": "MwC4kqmO8x1D"
      },
      "source": [
        "#set the previous 2 interview takers\n",
        "rows = worksheet_list[len(worksheet_list)-1].get_all_values()\n",
        "pd_val = pd.DataFrame.from_records(rows)\n",
        "for index,row in pd_val.iterrows():\n",
        "  if(index>1):\n",
        "    all_interviewers[row[1]].last_interview_count=all_interviewers[row[1]].last_interview_count+1;\n",
        "hash = sorted(all_interviewers.values(), key=lambda interviewer: interviewer.last_interview_count)  \n",
        "newhash = {}\n",
        "for interviewer in hash:\n",
        "  newhash[interviewer.name] = interviewer\n",
        "all_interviewers = newhash  "
      ],
      "execution_count": null,
      "outputs": []
    },
    {
      "cell_type": "code",
      "metadata": {
        "colab": {
          "base_uri": "https://localhost:8080/"
        },
        "id": "FigR5qxtWbBO",
        "outputId": "275ddc39-b1e2-49bd-8e70-e147b08bae37"
      },
      "source": [
        "for interviewer in all_interviewers:\n",
        "  all_interviewers[interviewer].remaining_interviews = 2 - all_interviewers[interviewer].last_interview_count;  "
      ],
      "execution_count": null,
      "outputs": [
        {
          "output_type": "stream",
          "text": [
            "2\n",
            "2\n",
            "2\n",
            "2\n",
            "2\n",
            "1\n",
            "1\n",
            "1\n",
            "1\n",
            "1\n",
            "1\n",
            "1\n",
            "1\n",
            "0\n",
            "0\n",
            "0\n",
            "0\n",
            "0\n",
            "0\n",
            "0\n",
            "0\n",
            "0\n",
            "0\n",
            "0\n"
          ],
          "name": "stdout"
        }
      ]
    },
    {
      "cell_type": "code",
      "metadata": {
        "id": "ZDhbelSGeNxv"
      },
      "source": [
        "interview_pairings = []\n",
        "for interviewee in all_interviewees:\n",
        "  interview_pairings.append([all_interviewees[interviewee].name])\n",
        "i=0\n",
        "for interviewer in all_interviewers:\n",
        "  interview_pairings[i].append(all_interviewers[interviewer].name)\n",
        "  i=i+1\n",
        "print(interview_pairings)  "
      ],
      "execution_count": null,
      "outputs": []
    }
  ]
}