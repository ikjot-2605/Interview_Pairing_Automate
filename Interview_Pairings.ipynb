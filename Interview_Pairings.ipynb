from google.colab import auth
auth.authenticate_user()

import gspread
from oauth2client.client import GoogleCredentials

gc = gspread.authorize(GoogleCredentials.get_application_default())

import pandas as pd

sh = gc.open('WEC Mock Interview pairings')
worksheet_list = sh.worksheets()
worksheet_list_length = len(worksheet_list)
all_interviewees = set()
all_interviewers = set()
for i in range(0,worksheet_list_length):
  current_worksheet = worksheet_list[i]
  rows = current_worksheet.get_all_values()
  pd_val = pd.DataFrame.from_records(rows)
  for index, row in pd_val.iterrows():
    if index>1:
      all_interviewers.add(row[1])
      all_interviewees.add(row[0])
print(len(all_interviewees))
print(len(all_interviewers))
