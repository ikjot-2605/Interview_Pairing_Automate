{
  "nbformat": 4,
  "nbformat_minor": 0,
  "metadata": {
    "colab": {
      "name": "Interview_Pairings.ipynb",
      "provenance": [],
      "collapsed_sections": [],
      "authorship_tag": "ABX9TyP2Sr3iNm87Lf97sDNxu89Q",
      "include_colab_link": true
    },
    "kernelspec": {
      "name": "python3",
      "display_name": "Python 3"
    },
    "language_info": {
      "name": "python"
    }
  },
  "cells": [
    {
      "cell_type": "markdown",
      "metadata": {
        "id": "view-in-github",
        "colab_type": "text"
      },
      "source": [
        "<a href=\"https://colab.research.google.com/github/ikjot-2605/Interview_Pairing_Automate/blob/main/Interview_Pairings.ipynb\" target=\"_parent\"><img src=\"https://colab.research.google.com/assets/colab-badge.svg\" alt=\"Open In Colab\"/></a>"
      ]
    },
    {
      "cell_type": "code",
      "metadata": {
        "id": "28tOjJQ7iUEO"
      },
      "source": [
        "from google.colab import auth\n",
        "auth.authenticate_user()\n",
        "\n",
        "import gspread\n",
        "from oauth2client.client import GoogleCredentials\n",
        "\n",
        "gc = gspread.authorize(GoogleCredentials.get_application_default())\n",
        "\n",
        "import pandas as pd"
      ],
      "execution_count": 52,
      "outputs": []
    },
    {
      "cell_type": "code",
      "metadata": {
        "colab": {
          "base_uri": "https://localhost:8080/"
        },
        "id": "essiSXWColUR",
        "outputId": "36e0a608-9a56-4755-e727-d3219f8bb820"
      },
      "source": [
        "sh = gc.open('WEC Mock Interview pairings')\n",
        "worksheet_list = sh.worksheets()\n",
        "worksheet_list_length = len(worksheet_list)\n",
        "all_interviewees = set()\n",
        "all_interviewers = set()\n",
        "for i in range(0,worksheet_list_length):\n",
        "  current_worksheet = worksheet_list[i]\n",
        "  rows = current_worksheet.get_all_values()\n",
        "  pd_val = pd.DataFrame.from_records(rows)\n",
        "  for index, row in pd_val.iterrows():\n",
        "    if index>1:\n",
        "      all_interviewers.add(row[1])\n",
        "      all_interviewees.add(row[0])\n",
        "interviewee_list = list(all_interviewees)\n",
        "interviewer_list = list(all_interviewers)\n",
        "matrix = [[]]\n",
        "\n",
        "for i in range (0,len(interviewer_list)):\n",
        "  for j in range (0,len(interviewee_list)):\n",
        "    matrix[i].append(interviewee_list[j])\n",
        "  matrix.append([])  \n",
        "\n",
        "for i in range (0,len(interviewer_list)):\n",
        "  for j in range(0,worksheet_list_length):\n",
        "    current_worksheet = worksheet_list[j]\n",
        "    rows = current_worksheet.get_all_values()\n",
        "    pd_val = pd.DataFrame.from_records(rows)\n",
        "    for index, row in pd_val.iterrows():\n",
        "      if row[1]==interviewer_list[i]:\n",
        "        matrix[i].remove(row[0])\n",
        "print(all_interviewers)\n",
        "\n",
        "\n",
        "\n",
        "  "
      ],
      "execution_count": 55,
      "outputs": [
        {
          "output_type": "stream",
          "text": [
            "{'Krithik Vaidya(WEC)', 'Abhinav(WEC)', 'Krishna Swaroop (WEC)', 'Mohit(WEC)', 'Shashank(WEC)', 'Jaidev Chittoria(WEC)', 'Niranjan S Y(WEC)', 'Sai Krishna Anand (WEC)', 'Shreeraksha(WEC)', 'Kevin Joe(WEC)', 'Manav Singhal(WEC)', 'Sai Krishna Anand(WEC)', 'Vaibhav Puri(WEC)', 'Arpitha R(WEC)', 'Aditya Jain(WEC)', 'Suhas K S(WEC)', 'Aniruddh Patil(WEC)', 'Adharsh Kamath(WEC)', 'Sriram Rao(WEC)', 'Arnav Nair(WEC)', 'Shruthan(WEC)', 'Kinshuk Kashyap(WEC)', 'Akashdeep S(WEC)', 'Abhishek Kumar(WEC)', 'Saurabh Agarwala(WEC)'}\n"
          ],
          "name": "stdout"
        }
      ]
    },
    {
      "cell_type": "code",
      "metadata": {
        "colab": {
          "base_uri": "https://localhost:8080/"
        },
        "id": "8_SiNBZG0MFL",
        "outputId": "e37a50b6-f6dd-46b2-8b54-b59dcc6f800f"
      },
      "source": [
        "two_interviewer_list = []\n",
        "current_worksheet = worksheet_list[worksheet_list_length-1]\n",
        "rows = current_worksheet.get_all_values()\n",
        "pd_val = pd.DataFrame.from_records(rows)\n",
        "for index, row in pd_val.iterrows():\n",
        "  print(row[1])\n",
        "  two_interviewer_list.append(row[1])\n",
        "two_interviewer_list.pop(0)\n",
        "two_interviewer_list.pop(0)  \n",
        "print(len(two_interviewer_list))\n",
        "print(two_interviewer_list)\n",
        "two_interview_list = []\n",
        "for i in range (0,len(two_interviewer_list)):\n",
        "  if i>len(two_interviewer_list)-1 : break\n",
        "  count_of = two_interviewer_list.count(two_interviewer_list[i])\n",
        "  print(count_of)\n",
        "  if not count_of==2:   \n",
        "    two_interview_list.append(two_interviewer_list[i])\n",
        "print(two_interview_list)\n"
      ],
      "execution_count": 56,
      "outputs": [
        {
          "output_type": "stream",
          "text": [
            "\n",
            "Interviewer\n",
            "Arpitha R(WEC)\n",
            "Aditya Jain(WEC)\n",
            "Abhinav(WEC)\n",
            "Aniruddh Patil(WEC)\n",
            "Adharsh Kamath(WEC)\n",
            "Abhinav(WEC)\n",
            "Aniruddh Patil(WEC)\n",
            "Aditya Jain(WEC)\n",
            "Adharsh Kamath(WEC)\n",
            "Jaidev Chittoria(WEC)\n",
            "Saurabh Agarwala(WEC)\n",
            "Kevin Joe(WEC)\n",
            "Shruthan(WEC)\n",
            "Arpitha R(WEC)\n",
            "Krishna Swaroop (WEC)\n",
            "Akashdeep S(WEC)\n",
            "Niranjan S Y(WEC)\n",
            "Saurabh Agarwala(WEC)\n",
            "Manav Singhal(WEC)\n",
            "Suhas K S(WEC)\n",
            "Shashank(WEC)\n",
            "Sai Krishna Anand(WEC)\n",
            "Arnav Nair(WEC)\n",
            "Vaibhav Puri(WEC)\n",
            "Abhishek Kumar(WEC)\n",
            "Shruthan(WEC)\n",
            "Shreeraksha(WEC)\n",
            "Kinshuk Kashyap(WEC)\n",
            "Mohit(WEC)\n",
            "Sriram Rao(WEC)\n",
            "Akashdeep S(WEC)\n",
            "31\n",
            "['Arpitha R(WEC)', 'Aditya Jain(WEC)', 'Abhinav(WEC)', 'Aniruddh Patil(WEC)', 'Adharsh Kamath(WEC)', 'Abhinav(WEC)', 'Aniruddh Patil(WEC)', 'Aditya Jain(WEC)', 'Adharsh Kamath(WEC)', 'Jaidev Chittoria(WEC)', 'Saurabh Agarwala(WEC)', 'Kevin Joe(WEC)', 'Shruthan(WEC)', 'Arpitha R(WEC)', 'Krishna Swaroop (WEC)', 'Akashdeep S(WEC)', 'Niranjan S Y(WEC)', 'Saurabh Agarwala(WEC)', 'Manav Singhal(WEC)', 'Suhas K S(WEC)', 'Shashank(WEC)', 'Sai Krishna Anand(WEC)', 'Arnav Nair(WEC)', 'Vaibhav Puri(WEC)', 'Abhishek Kumar(WEC)', 'Shruthan(WEC)', 'Shreeraksha(WEC)', 'Kinshuk Kashyap(WEC)', 'Mohit(WEC)', 'Sriram Rao(WEC)', 'Akashdeep S(WEC)']\n",
            "2\n",
            "2\n",
            "2\n",
            "2\n",
            "2\n",
            "2\n",
            "2\n",
            "2\n",
            "2\n",
            "1\n",
            "2\n",
            "1\n",
            "2\n",
            "2\n",
            "1\n",
            "2\n",
            "1\n",
            "2\n",
            "1\n",
            "1\n",
            "1\n",
            "1\n",
            "1\n",
            "1\n",
            "1\n",
            "2\n",
            "1\n",
            "1\n",
            "1\n",
            "1\n",
            "2\n",
            "['Jaidev Chittoria(WEC)', 'Kevin Joe(WEC)', 'Krishna Swaroop (WEC)', 'Niranjan S Y(WEC)', 'Manav Singhal(WEC)', 'Suhas K S(WEC)', 'Shashank(WEC)', 'Sai Krishna Anand(WEC)', 'Arnav Nair(WEC)', 'Vaibhav Puri(WEC)', 'Abhishek Kumar(WEC)', 'Shreeraksha(WEC)', 'Kinshuk Kashyap(WEC)', 'Mohit(WEC)', 'Sriram Rao(WEC)']\n"
          ],
          "name": "stdout"
        }
      ]
    },
    {
      "cell_type": "code",
      "metadata": {
        "id": "zPvu60wF7BUz"
      },
      "source": [
        ""
      ],
      "execution_count": null,
      "outputs": []
    },
    {
      "cell_type": "code",
      "metadata": {
        "id": "Umv0RzMR3lz7"
      },
      "source": [
        ""
      ],
      "execution_count": 39,
      "outputs": []
    }
  ]
}