{
  "nbformat": 4,
  "nbformat_minor": 0,
  "metadata": {
    "colab": {
      "name": "Interview_Pairings.ipynb",
      "provenance": [],
      "collapsed_sections": [],
      "authorship_tag": "ABX9TyMfkmn4oDWwuFzoXb6s7dFn",
      "include_colab_link": true
    },
    "kernelspec": {
      "name": "python3",
      "display_name": "Python 3"
    },
    "language_info": {
      "name": "python"
    }
  },
  "cells": [
    {
      "cell_type": "markdown",
      "metadata": {
        "id": "view-in-github",
        "colab_type": "text"
      },
      "source": [
        "<a href=\"https://colab.research.google.com/github/ikjot-2605/Interview_Pairing_Automate/blob/main/Interview_Pairings.ipynb\" target=\"_parent\"><img src=\"https://colab.research.google.com/assets/colab-badge.svg\" alt=\"Open In Colab\"/></a>"
      ]
    },
    {
      "cell_type": "code",
      "metadata": {
        "id": "28tOjJQ7iUEO"
      },
      "source": [
        "from google.colab import auth\n",
        "auth.authenticate_user()\n",
        "\n",
        "import gspread\n",
        "from oauth2client.client import GoogleCredentials\n",
        "\n",
        "gc = gspread.authorize(GoogleCredentials.get_application_default())\n",
        "\n",
        "import pandas as pd"
      ],
      "execution_count": 60,
      "outputs": []
    },
    {
      "cell_type": "code",
      "metadata": {
        "colab": {
          "base_uri": "https://localhost:8080/"
        },
        "id": "essiSXWColUR",
        "outputId": "cac55925-d7e0-4b71-defa-81a3da9f21b0"
      },
      "source": [
        "sh = gc.open('WEC Mock Interview pairings')\n",
        "worksheet_list = sh.worksheets()\n",
        "worksheet_list_length = len(worksheet_list)\n",
        "all_interviewees = set()\n",
        "all_interviewers = set()\n",
        "for i in range(0,worksheet_list_length):\n",
        "  current_worksheet = worksheet_list[i]\n",
        "  rows = current_worksheet.get_all_values()\n",
        "  pd_val = pd.DataFrame.from_records(rows)\n",
        "  for index, row in pd_val.iterrows():\n",
        "    if index>1:\n",
        "      all_interviewers.add(row[1])\n",
        "      all_interviewees.add(row[0])\n",
        "interviewee_list = list(all_interviewees)\n",
        "interviewer_list = list(all_interviewers)\n",
        "matrix = {}\n",
        "\n",
        "for i in range (0,len(interviewer_list)):\n",
        "  matrix[interviewer_list[i]] = [];\n",
        "  for j in range (0,len(interviewee_list)):\n",
        "    matrix[interviewer_list[i]].append(interviewee_list[j])\n",
        "\n",
        "for i in range (0,len(interviewer_list)):\n",
        "  for j in range(0,worksheet_list_length):\n",
        "    current_worksheet = worksheet_list[j]\n",
        "    rows = current_worksheet.get_all_values()\n",
        "    pd_val = pd.DataFrame.from_records(rows)\n",
        "    for index, row in pd_val.iterrows():\n",
        "      if row[1]==interviewer_list[i]:\n",
        "        matrix[interviewer_list[i]].remove(row[0])\n",
        "print(all_interviewers)\n",
        "\n",
        "\n",
        "\n",
        "  "
      ],
      "execution_count": 61,
      "outputs": [
        {
          "output_type": "stream",
          "text": [
            "{'Krithik Vaidya(WEC)', 'Abhinav(WEC)', 'Krishna Swaroop (WEC)', 'Mohit(WEC)', 'Shashank(WEC)', 'Jaidev Chittoria(WEC)', 'Niranjan S Y(WEC)', 'Sai Krishna Anand (WEC)', 'Shreeraksha(WEC)', 'Kevin Joe(WEC)', 'Manav Singhal(WEC)', 'Sai Krishna Anand(WEC)', 'Vaibhav Puri(WEC)', 'Arpitha R(WEC)', 'Aditya Jain(WEC)', 'Suhas K S(WEC)', 'Aniruddh Patil(WEC)', 'Adharsh Kamath(WEC)', 'Sriram Rao(WEC)', 'Arnav Nair(WEC)', 'Shruthan(WEC)', 'Kinshuk Kashyap(WEC)', 'Akashdeep S(WEC)', 'Abhishek Kumar(WEC)', 'Saurabh Agarwala(WEC)'}\n"
          ],
          "name": "stdout"
        }
      ]
    },
    {
      "cell_type": "code",
      "metadata": {
        "id": "8_SiNBZG0MFL"
      },
      "source": [
        "two_interviewer_list = []\n",
        "current_worksheet = worksheet_list[worksheet_list_length-1]\n",
        "rows = current_worksheet.get_all_values()\n",
        "pd_val = pd.DataFrame.from_records(rows)\n",
        "for index, row in pd_val.iterrows():\n",
        "  two_interviewer_list.append(row[1])\n",
        "two_interviewer_list.pop(0)\n",
        "two_interviewer_list.pop(0)  \n",
        "two_interview_list = []\n",
        "one_interview_list = []\n",
        "for i in range (0,len(two_interviewer_list)):\n",
        "  if i>len(two_interviewer_list)-1 : break\n",
        "  count_of = two_interviewer_list.count(two_interviewer_list[i])\n",
        "  if count_of ==1 :\n",
        "    one_interview_list.append(two_interviewer_list[i])\n",
        "  if count_of==2 and two_interview_list.count(two_interviewer_list[i])==0:   \n",
        "    two_interview_list.append(two_interviewer_list[i])\n"
      ],
      "execution_count": 62,
      "outputs": []
    },
    {
      "cell_type": "code",
      "metadata": {
        "colab": {
          "base_uri": "https://localhost:8080/"
        },
        "id": "zPvu60wF7BUz",
        "outputId": "84ab356e-f1ac-4bb2-bc3a-34b2c6df9adf"
      },
      "source": [
        "allotments = []\n",
        "interviewees_allotted = set();\n",
        "for i in range (0,len(two_interview_list)):\n",
        "  for j in range (0,len(matrix[two_interview_list[i]])):\n",
        "    if matrix[two_interview_list[i]][j] in interviewees_allotted:\n",
        "      continue\n",
        "    else: \n",
        "      interviewees_allotted.add(matrix[two_interview_list[i]][j])\n",
        "      allotments.append([matrix[two_interview_list[i]][j],two_interview_list[i]])\n",
        "      break  \n",
        "for i in range (0,len(one_interview_list)):\n",
        "  count = 0\n",
        "  for j in range (0,len(matrix[one_interview_list[i]])):\n",
        "    if count==2:break\n",
        "    if matrix[one_interview_list[i]][j] in interviewees_allotted:\n",
        "      continue\n",
        "    else: \n",
        "      interviewees_allotted.add(matrix[one_interview_list[i]][j])\n",
        "      allotments.append([matrix[one_interview_list[i]][j],one_interview_list[i]])\n",
        "      count = count+1\n",
        "\n",
        "print(allotments)\n",
        "print(len(interviewees_allotted))\n",
        "import csv\n",
        "\n",
        "with open(\"output.csv\", \"w\", newline=\"\") as f:\n",
        "    writer = csv.writer(f)\n",
        "    writer.writerows(allotments)"
      ],
      "execution_count": 70,
      "outputs": [
        {
          "output_type": "stream",
          "text": [
            "[['Ali Murtaza(WEC)', 'Arpitha R(WEC)'], ['Adithya Rajesh(WEC)', 'Aditya Jain(WEC)'], ['Srujan Bharadwaj(WEC)', 'Abhinav(WEC)'], ['Sushanth Sathesh Rao(WEC)', 'Aniruddh Patil(WEC)'], ['saurabh gole(WEC)', 'Adharsh Kamath(WEC)'], ['Chaithanya Shyam D(WEC)', 'Saurabh Agarwala(WEC)'], ['Janmansh Agarwal(WEC)', 'Shruthan(WEC)'], ['Rakshit P(WEC)', 'Akashdeep S(WEC)'], ['Tharun K(WEC)', 'Jaidev Chittoria(WEC)'], ['Rakshita Varadarajan(WEC)', 'Jaidev Chittoria(WEC)'], ['Gaurav Singh(WEC)', 'Kevin Joe(WEC)'], ['Ikjot Singh Dhody(WEC)', 'Kevin Joe(WEC)'], ['Balajinaidu V(WEC)', 'Krishna Swaroop (WEC)'], ['K Dharmick Sai(WEC)', 'Krishna Swaroop (WEC)'], ['Saish Mendke(WEC)', 'Niranjan S Y(WEC)'], ['Sudesh Gowda J(WEC)', 'Niranjan S Y(WEC)'], ['Achintya Kumar(WEC)', 'Manav Singhal(WEC)'], ['Addhyan Malhotra(WEC)', 'Manav Singhal(WEC)'], ['Aritra Sinha(WEC)', 'Suhas K S(WEC)'], ['yash sharma(WEC)', 'Suhas K S(WEC)'], ['Nanda Kishore(WEC)', 'Shashank(WEC)'], ['Tanmay Ranaware(WEC)', 'Shashank(WEC)'], ['Nishant Nayak(WEC)', 'Sai Krishna Anand(WEC)'], ['Rajan Jaiswal(WEC)', 'Sai Krishna Anand(WEC)'], ['Rashmith S(WEC)', 'Arnav Nair(WEC)'], ['Sudarshan Sundarrajan(WEC)', 'Arnav Nair(WEC)'], ['Mudit Singhal(WEC)', 'Vaibhav Puri(WEC)'], ['Niraj Nandish(WEC)', 'Vaibhav Puri(WEC)'], ['Aditya R Rudra(WEC)', 'Abhishek Kumar(WEC)'], ['G.Niharika(WEC)', 'Abhishek Kumar(WEC)'], ['Ashwin P(WEC)', 'Shreeraksha(WEC)']]\n",
            "31\n"
          ],
          "name": "stdout"
        }
      ]
    },
    {
      "cell_type": "code",
      "metadata": {
        "id": "Umv0RzMR3lz7"
      },
      "source": [
        ""
      ],
      "execution_count": 39,
      "outputs": []
    }
  ]
}