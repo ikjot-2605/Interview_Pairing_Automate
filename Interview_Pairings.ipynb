{
  "nbformat": 4,
  "nbformat_minor": 0,
  "metadata": {
    "colab": {
      "name": "Interview_Pairings.ipynb",
      "provenance": [],
      "collapsed_sections": [],
      "authorship_tag": "ABX9TyM0uaY8dE1ucBZJzwBHKzrr",
      "include_colab_link": true
    },
    "kernelspec": {
      "name": "python3",
      "display_name": "Python 3"
    },
    "language_info": {
      "name": "python"
    }
  },
  "cells": [
    {
      "cell_type": "markdown",
      "metadata": {
        "id": "view-in-github",
        "colab_type": "text"
      },
      "source": [
        "<a href=\"https://colab.research.google.com/github/ikjot-2605/Interview_Pairing_Automate/blob/improvements/Interview_Pairings.ipynb\" target=\"_parent\"><img src=\"https://colab.research.google.com/assets/colab-badge.svg\" alt=\"Open In Colab\"/></a>"
      ]
    },
    {
      "cell_type": "code",
      "metadata": {
        "id": "28tOjJQ7iUEO"
      },
      "source": [
        "from google.colab import auth\n",
        "auth.authenticate_user()\n",
        "\n",
        "import gspread\n",
        "from oauth2client.client import GoogleCredentials\n",
        "\n",
        "gc = gspread.authorize(GoogleCredentials.get_application_default())\n",
        "\n",
        "import pandas as pd"
      ],
      "execution_count": 33,
      "outputs": []
    },
    {
      "cell_type": "code",
      "metadata": {
        "id": "essiSXWColUR"
      },
      "source": [
        "#interviewer class\n",
        "class Interviewer:\n",
        "  def __init__(self, name):\n",
        "    self.name = name\n",
        "    self.previouslyInterviewed = []\n",
        "  def addPreviouslyInterviewed(self,interviee_name):\n",
        "    self.previouslyInterviewed.append(interviee_name)\n",
        "         \n",
        "#interviewee class\n",
        "class Interviewee:\n",
        "  def __init__(self, name):\n",
        "    self.name = name\n",
        "    self.previouslyInterviewedBy = []\n",
        "  def addPreviouslyInterviewedBy(self,interviewer_name):\n",
        "    self.previouslyInterviewedBy.append(interviewer_name)      "
      ],
      "execution_count": 36,
      "outputs": []
    },
    {
      "cell_type": "code",
      "metadata": {
        "id": "yO1f2tBFyNXP"
      },
      "source": [
        "sh = gc.open('WEC Mock Interview pairings')\n",
        "#get the worksheets\n",
        "worksheet_list = sh.worksheets()\n",
        "#get the length of list of worksheets\n",
        "worksheet_list_length = len(worksheet_list)\n",
        "#get all interviewers and interviewees \n",
        "all_interviewees = {};\n",
        "all_interviewers = {};\n",
        "#filling out the all_interviewer, all_interviewees dictionaries\n",
        "for worksheet in worksheet_list:\n",
        "  #creating dataframe for current sheet\n",
        "  rows = worksheet.get_all_values()\n",
        "  pd_val = pd.DataFrame.from_records(rows)\n",
        "  #iterating through rows of dataframe, and building the respective dicts\n",
        "  for index, row in pd_val.iterrows():\n",
        "    if(index>1):\n",
        "      if(row[0] not in all_interviewees):all_interviewees[row[0]] = (Interviewee(row[0]))\n",
        "      if(row[1] not in all_interviewers):all_interviewers[row[1]] = (Interviewer(row[1]))\n",
        "      all_interviewees[row[0]].addPreviouslyInterviewedBy(row[1])\n",
        "      all_interviewers[row[1]].addPreviouslyInterviewed(row[0]) \n",
        "    \n",
        "   "
      ],
      "execution_count": 47,
      "outputs": []
    },
    {
      "cell_type": "code",
      "metadata": {
        "colab": {
          "base_uri": "https://localhost:8080/"
        },
        "id": "MwC4kqmO8x1D",
        "outputId": "e478fad7-f122-4057-c1d1-cac18763e01a"
      },
      "source": [
        "for interviewer in all_interviewers:\n",
        "    print(interviewer + str(all_interviewers[interviewer].previouslyInterviewed))"
      ],
      "execution_count": 48,
      "outputs": [
        {
          "output_type": "stream",
          "text": [
            "Abhishek Kumar(WEC)['Ikjot Singh Dhody(WEC)', 'Rakshit P(WEC)', 'Adithya Rajesh(WEC)', 'Aditya R Rudra(WEC)', 'G.Niharika(WEC)']\n",
            "Shreeraksha(WEC)['Janmansh Agarwal(WEC)', 'Nanda Kishore(WEC)', 'Balajinaidu V(WEC)', 'Ashwin P(WEC)']\n",
            "Kinshuk Kashyap(WEC)['Gaurav Singh(WEC)', 'Balajinaidu V(WEC)', 'Tanmay Ranaware(WEC)']\n",
            "Sai Krishna Anand (WEC)['yash sharma(WEC)']\n",
            "Abhinav(WEC)['Aditya R Rudra(WEC)', 'Gaurav Singh(WEC)', 'Chaithanya Shyam D(WEC)', 'Srujan Bharadwaj(WEC)']\n",
            "Aniruddh Patil(WEC)['Chaithanya Shyam D(WEC)', 'yash sharma(WEC)', 'Srujan Bharadwaj(WEC)', 'Sushanth Sathesh Rao(WEC)']\n",
            "Aditya Jain(WEC)['Srujan Bharadwaj(WEC)', 'Janmansh Agarwal(WEC)', 'Tharun K(WEC)', 'Adithya Rajesh(WEC)']\n",
            "Adharsh Kamath(WEC)['Tharun K(WEC)', 'Aditya R Rudra(WEC)', 'Saish Mendke(WEC)', 'saurabh gole(WEC)']\n",
            "Jaidev Chittoria(WEC)['Saish Mendke(WEC)', 'Adithya Rajesh(WEC)', 'Rajan Jaiswal(WEC)', 'Tharun K(WEC)', 'Rakshita Varadarajan(WEC)']\n",
            "Mohit(WEC)['Rajan Jaiswal(WEC)', 'Rashmith S(WEC)', 'Sudesh Gowda J(WEC)']\n",
            "Kevin Joe(WEC)['K Dharmick Sai(WEC)', 'Mudit Singhal(WEC)', 'Gaurav Singh(WEC)', 'Ikjot Singh Dhody(WEC)']\n",
            "Shruthan(WEC)['Mudit Singhal(WEC)', 'Sudarshan Sundarrajan(WEC)', 'Nanda Kishore(WEC)', 'Janmansh Agarwal(WEC)']\n",
            "Arpitha R(WEC)['Sudarshan Sundarrajan(WEC)', 'Ikjot Singh Dhody(WEC)', 'Achintya Kumar(WEC)']\n",
            "Krishna Swaroop (WEC)['Achintya Kumar(WEC)', 'Rakshita Varadarajan(WEC)', 'Balajinaidu V(WEC)', 'K Dharmick Sai(WEC)']\n",
            "Akashdeep S(WEC)['Rakshita Varadarajan(WEC)', 'Nishant Nayak(WEC)', 'Ali Murtaza(WEC)', 'Rakshit P(WEC)']\n",
            "Niranjan S Y(WEC)['Nishant Nayak(WEC)', 'G.Niharika(WEC)', 'Saish Mendke(WEC)', 'Sudesh Gowda J(WEC)']\n",
            "Saurabh Agarwala(WEC)['G.Niharika(WEC)', 'K Dharmick Sai(WEC)', 'Ashwin P(WEC)', 'Chaithanya Shyam D(WEC)']\n",
            "Manav Singhal(WEC)['Ashwin P(WEC)', 'Niraj Nandish(WEC)', 'Achintya Kumar(WEC)', 'Addhyan Malhotra(WEC)']\n",
            "Suhas K S(WEC)['Niraj Nandish(WEC)', 'Sushanth Sathesh Rao(WEC)', 'Aritra Sinha(WEC)', 'yash sharma(WEC)']\n",
            "Shashank(WEC)['Sushanth Sathesh Rao(WEC)', 'saurabh gole(WEC)', 'Nanda Kishore(WEC)', 'Tanmay Ranaware(WEC)']\n",
            "Sai Krishna Anand(WEC)['saurabh gole(WEC)', 'Addhyan Malhotra(WEC)', 'Nishant Nayak(WEC)', 'Rajan Jaiswal(WEC)']\n",
            "Arnav Nair(WEC)['Addhyan Malhotra(WEC)', 'Aritra Sinha(WEC)', 'Rashmith S(WEC)', 'Sudarshan Sundarrajan(WEC)']\n",
            "Vaibhav Puri(WEC)['Aritra Sinha(WEC)', 'Rakshit P(WEC)', 'Mudit Singhal(WEC)', 'Niraj Nandish(WEC)']\n",
            "Krithik Vaidya(WEC)['Tanmay Ranaware(WEC)']\n",
            "Sriram Rao(WEC)['Sudesh Gowda J(WEC)', 'Rashmith S(WEC)']\n"
          ],
          "name": "stdout"
        }
      ]
    }
  ]
}